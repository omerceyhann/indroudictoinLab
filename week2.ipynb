{
 "cells": [
  {
   "cell_type": "code",
   "execution_count": 1,
   "id": "d3af70af",
   "metadata": {
    "_cell_guid": "b1076dfc-b9ad-4769-8c92-a6c4dae69d19",
    "_uuid": "8f2839f25d086af736a60e9eeb907d3b93b6e0e5",
    "execution": {
     "iopub.execute_input": "2023-03-10T13:25:34.266053Z",
     "iopub.status.busy": "2023-03-10T13:25:34.265499Z",
     "iopub.status.idle": "2023-03-10T13:25:34.279953Z",
     "shell.execute_reply": "2023-03-10T13:25:34.278961Z"
    },
    "papermill": {
     "duration": 0.030166,
     "end_time": "2023-03-10T13:25:34.282602",
     "exception": false,
     "start_time": "2023-03-10T13:25:34.252436",
     "status": "completed"
    },
    "tags": []
   },
   "outputs": [],
   "source": [
    "# This Python 3 environment comes with many helpful analytics libraries installed\n",
    "# It is defined by the kaggle/python Docker image: https://github.com/kaggle/docker-python\n",
    "# For example, here's several helpful packages to load\n",
    "\n",
    "import numpy as np # linear algebra\n",
    "import pandas as pd # data processing, CSV file I/O (e.g. pd.read_csv)\n",
    "\n",
    "# Input data files are available in the read-only \"../input/\" directory\n",
    "# For example, running this (by clicking run or pressing Shift+Enter) will list all files under the input directory\n",
    "\n",
    "import os\n",
    "for dirname, _, filenames in os.walk('/kaggle/input'):\n",
    "    for filename in filenames:\n",
    "        print(os.path.join(dirname, filename))\n",
    "\n",
    "# You can write up to 20GB to the current directory (/kaggle/working/) that gets preserved as output when you create a version using \"Save & Run All\" \n",
    "# You can also write temporary files to /kaggle/temp/, but they won't be saved outside of the current session"
   ]
  },
  {
   "cell_type": "code",
   "execution_count": 2,
   "id": "4b80d2ac",
   "metadata": {
    "execution": {
     "iopub.execute_input": "2023-03-10T13:25:34.304579Z",
     "iopub.status.busy": "2023-03-10T13:25:34.303433Z",
     "iopub.status.idle": "2023-03-10T13:25:34.308472Z",
     "shell.execute_reply": "2023-03-10T13:25:34.307535Z"
    },
    "papermill": {
     "duration": 0.01827,
     "end_time": "2023-03-10T13:25:34.310835",
     "exception": false,
     "start_time": "2023-03-10T13:25:34.292565",
     "status": "completed"
    },
    "tags": []
   },
   "outputs": [],
   "source": [
    "import numpy as np"
   ]
  },
  {
   "cell_type": "code",
   "execution_count": 3,
   "id": "e6681557",
   "metadata": {
    "execution": {
     "iopub.execute_input": "2023-03-10T13:25:34.332009Z",
     "iopub.status.busy": "2023-03-10T13:25:34.330950Z",
     "iopub.status.idle": "2023-03-10T13:25:34.339099Z",
     "shell.execute_reply": "2023-03-10T13:25:34.337875Z"
    },
    "papermill": {
     "duration": 0.021256,
     "end_time": "2023-03-10T13:25:34.341546",
     "exception": false,
     "start_time": "2023-03-10T13:25:34.320290",
     "status": "completed"
    },
    "tags": []
   },
   "outputs": [
    {
     "name": "stdout",
     "output_type": "stream",
     "text": [
      "[1 2 3]\n"
     ]
    }
   ],
   "source": [
    "array =np.array([1,2,3])\n",
    "print(array)"
   ]
  },
  {
   "cell_type": "code",
   "execution_count": 4,
   "id": "60c7e73e",
   "metadata": {
    "execution": {
     "iopub.execute_input": "2023-03-10T13:25:34.362117Z",
     "iopub.status.busy": "2023-03-10T13:25:34.361704Z",
     "iopub.status.idle": "2023-03-10T13:25:34.369335Z",
     "shell.execute_reply": "2023-03-10T13:25:34.368427Z"
    },
    "papermill": {
     "duration": 0.020709,
     "end_time": "2023-03-10T13:25:34.371623",
     "exception": false,
     "start_time": "2023-03-10T13:25:34.350914",
     "status": "completed"
    },
    "tags": []
   },
   "outputs": [
    {
     "data": {
      "text/plain": [
       "(3,)"
      ]
     },
     "execution_count": 4,
     "metadata": {},
     "output_type": "execute_result"
    }
   ],
   "source": [
    "array.shape"
   ]
  },
  {
   "cell_type": "code",
   "execution_count": 5,
   "id": "f8d286de",
   "metadata": {
    "execution": {
     "iopub.execute_input": "2023-03-10T13:25:34.394409Z",
     "iopub.status.busy": "2023-03-10T13:25:34.393715Z",
     "iopub.status.idle": "2023-03-10T13:25:34.400843Z",
     "shell.execute_reply": "2023-03-10T13:25:34.399820Z"
    },
    "papermill": {
     "duration": 0.021787,
     "end_time": "2023-03-10T13:25:34.403146",
     "exception": false,
     "start_time": "2023-03-10T13:25:34.381359",
     "status": "completed"
    },
    "tags": []
   },
   "outputs": [
    {
     "data": {
      "text/plain": [
       "array([[ 1,  2,  3,  4,  5],\n",
       "       [ 6,  7,  8,  9, 10],\n",
       "       [11, 12, 13, 14, 15]])"
      ]
     },
     "execution_count": 5,
     "metadata": {},
     "output_type": "execute_result"
    }
   ],
   "source": [
    "array2= np.array([1,2,3,4,5,6,7,8,9,10,11,12,13,14,15])\n",
    "array2.reshape(3,5)"
   ]
  },
  {
   "cell_type": "code",
   "execution_count": 6,
   "id": "25ce01b3",
   "metadata": {
    "execution": {
     "iopub.execute_input": "2023-03-10T13:25:34.424245Z",
     "iopub.status.busy": "2023-03-10T13:25:34.423530Z",
     "iopub.status.idle": "2023-03-10T13:25:34.429945Z",
     "shell.execute_reply": "2023-03-10T13:25:34.428845Z"
    },
    "papermill": {
     "duration": 0.019737,
     "end_time": "2023-03-10T13:25:34.432359",
     "exception": false,
     "start_time": "2023-03-10T13:25:34.412622",
     "status": "completed"
    },
    "tags": []
   },
   "outputs": [
    {
     "data": {
      "text/plain": [
       "'int64'"
      ]
     },
     "execution_count": 6,
     "metadata": {},
     "output_type": "execute_result"
    }
   ],
   "source": [
    "array.dtype.name"
   ]
  },
  {
   "cell_type": "code",
   "execution_count": 7,
   "id": "4349cea7",
   "metadata": {
    "execution": {
     "iopub.execute_input": "2023-03-10T13:25:34.454070Z",
     "iopub.status.busy": "2023-03-10T13:25:34.453386Z",
     "iopub.status.idle": "2023-03-10T13:25:34.460123Z",
     "shell.execute_reply": "2023-03-10T13:25:34.459184Z"
    },
    "papermill": {
     "duration": 0.020363,
     "end_time": "2023-03-10T13:25:34.462291",
     "exception": false,
     "start_time": "2023-03-10T13:25:34.441928",
     "status": "completed"
    },
    "tags": []
   },
   "outputs": [
    {
     "data": {
      "text/plain": [
       "15"
      ]
     },
     "execution_count": 7,
     "metadata": {},
     "output_type": "execute_result"
    }
   ],
   "source": [
    "array2.size"
   ]
  },
  {
   "cell_type": "code",
   "execution_count": 8,
   "id": "3b2c7d7a",
   "metadata": {
    "execution": {
     "iopub.execute_input": "2023-03-10T13:25:34.484100Z",
     "iopub.status.busy": "2023-03-10T13:25:34.483376Z",
     "iopub.status.idle": "2023-03-10T13:25:34.490364Z",
     "shell.execute_reply": "2023-03-10T13:25:34.489383Z"
    },
    "papermill": {
     "duration": 0.02066,
     "end_time": "2023-03-10T13:25:34.492609",
     "exception": false,
     "start_time": "2023-03-10T13:25:34.471949",
     "status": "completed"
    },
    "tags": []
   },
   "outputs": [
    {
     "data": {
      "text/plain": [
       "numpy.ndarray"
      ]
     },
     "execution_count": 8,
     "metadata": {},
     "output_type": "execute_result"
    }
   ],
   "source": [
    "type(array2)"
   ]
  },
  {
   "cell_type": "code",
   "execution_count": 9,
   "id": "f33abf2f",
   "metadata": {
    "execution": {
     "iopub.execute_input": "2023-03-10T13:25:34.514718Z",
     "iopub.status.busy": "2023-03-10T13:25:34.514018Z",
     "iopub.status.idle": "2023-03-10T13:25:34.521423Z",
     "shell.execute_reply": "2023-03-10T13:25:34.520631Z"
    },
    "papermill": {
     "duration": 0.021204,
     "end_time": "2023-03-10T13:25:34.523642",
     "exception": false,
     "start_time": "2023-03-10T13:25:34.502438",
     "status": "completed"
    },
    "tags": []
   },
   "outputs": [
    {
     "data": {
      "text/plain": [
       "array([[ 1,  2,  3,  4,  5],\n",
       "       [ 6,  7,  8,  9, 10],\n",
       "       [11, 12, 13, 14, 15]])"
      ]
     },
     "execution_count": 9,
     "metadata": {},
     "output_type": "execute_result"
    }
   ],
   "source": [
    "array3= np.array([[1,2,3,4,5],[6,7,8,9,10],[11,12,13,14,15]])\n",
    "array3"
   ]
  },
  {
   "cell_type": "code",
   "execution_count": 10,
   "id": "1d648a98",
   "metadata": {
    "execution": {
     "iopub.execute_input": "2023-03-10T13:25:34.545221Z",
     "iopub.status.busy": "2023-03-10T13:25:34.544661Z",
     "iopub.status.idle": "2023-03-10T13:25:34.550171Z",
     "shell.execute_reply": "2023-03-10T13:25:34.549167Z"
    },
    "papermill": {
     "duration": 0.018669,
     "end_time": "2023-03-10T13:25:34.552266",
     "exception": false,
     "start_time": "2023-03-10T13:25:34.533597",
     "status": "completed"
    },
    "tags": []
   },
   "outputs": [
    {
     "data": {
      "text/plain": [
       "(3, 5)"
      ]
     },
     "execution_count": 10,
     "metadata": {},
     "output_type": "execute_result"
    }
   ],
   "source": [
    "array3.shape"
   ]
  },
  {
   "cell_type": "code",
   "execution_count": 11,
   "id": "8135cb33",
   "metadata": {
    "execution": {
     "iopub.execute_input": "2023-03-10T13:25:34.574337Z",
     "iopub.status.busy": "2023-03-10T13:25:34.573898Z",
     "iopub.status.idle": "2023-03-10T13:25:34.579597Z",
     "shell.execute_reply": "2023-03-10T13:25:34.578314Z"
    },
    "papermill": {
     "duration": 0.019539,
     "end_time": "2023-03-10T13:25:34.581949",
     "exception": false,
     "start_time": "2023-03-10T13:25:34.562410",
     "status": "completed"
    },
    "tags": []
   },
   "outputs": [],
   "source": [
    "zeros = np.zeros((3,4))"
   ]
  },
  {
   "cell_type": "code",
   "execution_count": 12,
   "id": "aba16b96",
   "metadata": {
    "execution": {
     "iopub.execute_input": "2023-03-10T13:25:34.604169Z",
     "iopub.status.busy": "2023-03-10T13:25:34.603791Z",
     "iopub.status.idle": "2023-03-10T13:25:34.611138Z",
     "shell.execute_reply": "2023-03-10T13:25:34.609985Z"
    },
    "papermill": {
     "duration": 0.021264,
     "end_time": "2023-03-10T13:25:34.613360",
     "exception": false,
     "start_time": "2023-03-10T13:25:34.592096",
     "status": "completed"
    },
    "tags": []
   },
   "outputs": [
    {
     "data": {
      "text/plain": [
       "array([[1., 1., 1., 1.],\n",
       "       [1., 1., 1., 1.],\n",
       "       [1., 1., 1., 1.]])"
      ]
     },
     "execution_count": 12,
     "metadata": {},
     "output_type": "execute_result"
    }
   ],
   "source": [
    "ones = np.ones((3,4))\n",
    "ones"
   ]
  },
  {
   "cell_type": "code",
   "execution_count": 13,
   "id": "7ca014fd",
   "metadata": {
    "execution": {
     "iopub.execute_input": "2023-03-10T13:25:34.635032Z",
     "iopub.status.busy": "2023-03-10T13:25:34.634604Z",
     "iopub.status.idle": "2023-03-10T13:25:34.642576Z",
     "shell.execute_reply": "2023-03-10T13:25:34.641406Z"
    },
    "papermill": {
     "duration": 0.021665,
     "end_time": "2023-03-10T13:25:34.644996",
     "exception": false,
     "start_time": "2023-03-10T13:25:34.623331",
     "status": "completed"
    },
    "tags": []
   },
   "outputs": [
    {
     "data": {
      "text/plain": [
       "array([[0. , 0. , 0.3, 1. , 0. ],\n",
       "       [0. , 1. , 1. , 1. , 1. ],\n",
       "       [1. , 1. , 1. , 0. , 0. ],\n",
       "       [1. , 0.5, 0. , 0. , 1. ]])"
      ]
     },
     "execution_count": 13,
     "metadata": {},
     "output_type": "execute_result"
    }
   ],
   "source": [
    "np.empty((4,5))"
   ]
  },
  {
   "cell_type": "code",
   "execution_count": 14,
   "id": "2fe36af1",
   "metadata": {
    "execution": {
     "iopub.execute_input": "2023-03-10T13:25:34.667300Z",
     "iopub.status.busy": "2023-03-10T13:25:34.666918Z",
     "iopub.status.idle": "2023-03-10T13:25:34.674317Z",
     "shell.execute_reply": "2023-03-10T13:25:34.673092Z"
    },
    "papermill": {
     "duration": 0.021589,
     "end_time": "2023-03-10T13:25:34.676758",
     "exception": false,
     "start_time": "2023-03-10T13:25:34.655169",
     "status": "completed"
    },
    "tags": []
   },
   "outputs": [
    {
     "data": {
      "text/plain": [
       "array([10, 15, 20, 25, 30, 35, 40, 45])"
      ]
     },
     "execution_count": 14,
     "metadata": {},
     "output_type": "execute_result"
    }
   ],
   "source": [
    "np.arange(10,50,5)"
   ]
  },
  {
   "cell_type": "code",
   "execution_count": 15,
   "id": "7c02a269",
   "metadata": {
    "execution": {
     "iopub.execute_input": "2023-03-10T13:25:34.699744Z",
     "iopub.status.busy": "2023-03-10T13:25:34.698894Z",
     "iopub.status.idle": "2023-03-10T13:25:34.707565Z",
     "shell.execute_reply": "2023-03-10T13:25:34.706538Z"
    },
    "papermill": {
     "duration": 0.02302,
     "end_time": "2023-03-10T13:25:34.710039",
     "exception": false,
     "start_time": "2023-03-10T13:25:34.687019",
     "status": "completed"
    },
    "tags": []
   },
   "outputs": [
    {
     "data": {
      "text/plain": [
       "array([ 0.        ,  0.52631579,  1.05263158,  1.57894737,  2.10526316,\n",
       "        2.63157895,  3.15789474,  3.68421053,  4.21052632,  4.73684211,\n",
       "        5.26315789,  5.78947368,  6.31578947,  6.84210526,  7.36842105,\n",
       "        7.89473684,  8.42105263,  8.94736842,  9.47368421, 10.        ])"
      ]
     },
     "execution_count": 15,
     "metadata": {},
     "output_type": "execute_result"
    }
   ],
   "source": [
    "a= np.linspace(0,10,20)\n",
    "a"
   ]
  },
  {
   "cell_type": "code",
   "execution_count": 16,
   "id": "f686bbfa",
   "metadata": {
    "execution": {
     "iopub.execute_input": "2023-03-10T13:25:34.734439Z",
     "iopub.status.busy": "2023-03-10T13:25:34.733223Z",
     "iopub.status.idle": "2023-03-10T13:25:34.740826Z",
     "shell.execute_reply": "2023-03-10T13:25:34.739520Z"
    },
    "papermill": {
     "duration": 0.022917,
     "end_time": "2023-03-10T13:25:34.743859",
     "exception": false,
     "start_time": "2023-03-10T13:25:34.720942",
     "status": "completed"
    },
    "tags": []
   },
   "outputs": [
    {
     "name": "stdout",
     "output_type": "stream",
     "text": [
      "[6 7 6]\n"
     ]
    }
   ],
   "source": [
    "a= np.array([1,2,3])\n",
    "b = np.array([5,5,3])\n",
    "print(a+b)"
   ]
  },
  {
   "cell_type": "code",
   "execution_count": 17,
   "id": "d7446080",
   "metadata": {
    "execution": {
     "iopub.execute_input": "2023-03-10T13:25:34.768033Z",
     "iopub.status.busy": "2023-03-10T13:25:34.767185Z",
     "iopub.status.idle": "2023-03-10T13:25:34.775180Z",
     "shell.execute_reply": "2023-03-10T13:25:34.774215Z"
    },
    "papermill": {
     "duration": 0.022672,
     "end_time": "2023-03-10T13:25:34.777478",
     "exception": false,
     "start_time": "2023-03-10T13:25:34.754806",
     "status": "completed"
    },
    "tags": []
   },
   "outputs": [
    {
     "data": {
      "text/plain": [
       "array([-4, -3,  0])"
      ]
     },
     "execution_count": 17,
     "metadata": {},
     "output_type": "execute_result"
    }
   ],
   "source": [
    "a-b"
   ]
  },
  {
   "cell_type": "code",
   "execution_count": 18,
   "id": "f9efa572",
   "metadata": {
    "execution": {
     "iopub.execute_input": "2023-03-10T13:25:34.801240Z",
     "iopub.status.busy": "2023-03-10T13:25:34.800253Z",
     "iopub.status.idle": "2023-03-10T13:25:34.807903Z",
     "shell.execute_reply": "2023-03-10T13:25:34.806864Z"
    },
    "papermill": {
     "duration": 0.02219,
     "end_time": "2023-03-10T13:25:34.810304",
     "exception": false,
     "start_time": "2023-03-10T13:25:34.788114",
     "status": "completed"
    },
    "tags": []
   },
   "outputs": [
    {
     "data": {
      "text/plain": [
       "array([ 5, 10,  9])"
      ]
     },
     "execution_count": 18,
     "metadata": {},
     "output_type": "execute_result"
    }
   ],
   "source": [
    "a*b"
   ]
  },
  {
   "cell_type": "code",
   "execution_count": 19,
   "id": "3548bfce",
   "metadata": {
    "execution": {
     "iopub.execute_input": "2023-03-10T13:25:34.833802Z",
     "iopub.status.busy": "2023-03-10T13:25:34.833356Z",
     "iopub.status.idle": "2023-03-10T13:25:34.839971Z",
     "shell.execute_reply": "2023-03-10T13:25:34.838622Z"
    },
    "papermill": {
     "duration": 0.022498,
     "end_time": "2023-03-10T13:25:34.843439",
     "exception": false,
     "start_time": "2023-03-10T13:25:34.820941",
     "status": "completed"
    },
    "tags": []
   },
   "outputs": [
    {
     "name": "stdout",
     "output_type": "stream",
     "text": [
      "{1, 2, 3, 4}\n",
      "[5 6 7 8]\n"
     ]
    }
   ],
   "source": [
    "liste = {1,2,3,4}\n",
    "\n",
    "array = np.array([5,6,7,8])\n",
    "print(liste)\n",
    "print(array)"
   ]
  },
  {
   "cell_type": "code",
   "execution_count": 20,
   "id": "930cc15c",
   "metadata": {
    "execution": {
     "iopub.execute_input": "2023-03-10T13:25:34.868879Z",
     "iopub.status.busy": "2023-03-10T13:25:34.868442Z",
     "iopub.status.idle": "2023-03-10T13:25:34.874985Z",
     "shell.execute_reply": "2023-03-10T13:25:34.874053Z"
    },
    "papermill": {
     "duration": 0.021912,
     "end_time": "2023-03-10T13:25:34.878193",
     "exception": false,
     "start_time": "2023-03-10T13:25:34.856281",
     "status": "completed"
    },
    "tags": []
   },
   "outputs": [
    {
     "data": {
      "text/plain": [
       "array({1, 2, 3, 4}, dtype=object)"
      ]
     },
     "execution_count": 20,
     "metadata": {},
     "output_type": "execute_result"
    }
   ],
   "source": [
    "array = np.array(liste)\n",
    "array"
   ]
  },
  {
   "cell_type": "code",
   "execution_count": 21,
   "id": "04691165",
   "metadata": {
    "execution": {
     "iopub.execute_input": "2023-03-10T13:25:34.907833Z",
     "iopub.status.busy": "2023-03-10T13:25:34.906602Z",
     "iopub.status.idle": "2023-03-10T13:25:34.916279Z",
     "shell.execute_reply": "2023-03-10T13:25:34.915187Z"
    },
    "papermill": {
     "duration": 0.027163,
     "end_time": "2023-03-10T13:25:34.919204",
     "exception": false,
     "start_time": "2023-03-10T13:25:34.892041",
     "status": "completed"
    },
    "tags": []
   },
   "outputs": [
    {
     "data": {
      "text/plain": [
       "array([1, 2, 3])"
      ]
     },
     "execution_count": 21,
     "metadata": {},
     "output_type": "execute_result"
    }
   ],
   "source": [
    "a = np.array([1,2,3])\n",
    "a"
   ]
  },
  {
   "cell_type": "code",
   "execution_count": 22,
   "id": "372f6d60",
   "metadata": {
    "execution": {
     "iopub.execute_input": "2023-03-10T13:25:34.948178Z",
     "iopub.status.busy": "2023-03-10T13:25:34.946883Z",
     "iopub.status.idle": "2023-03-10T13:25:34.955072Z",
     "shell.execute_reply": "2023-03-10T13:25:34.953693Z"
    },
    "papermill": {
     "duration": 0.024933,
     "end_time": "2023-03-10T13:25:34.958021",
     "exception": false,
     "start_time": "2023-03-10T13:25:34.933088",
     "status": "completed"
    },
    "tags": []
   },
   "outputs": [
    {
     "name": "stdout",
     "output_type": "stream",
     "text": [
      "[6 2 3] [6 2 3] [6 2 3]\n"
     ]
    }
   ],
   "source": [
    "b=a\n",
    "c=a\n",
    "b[0]=6\n",
    "print(a,b,c)"
   ]
  },
  {
   "cell_type": "code",
   "execution_count": 23,
   "id": "6e0f1120",
   "metadata": {
    "execution": {
     "iopub.execute_input": "2023-03-10T13:25:34.985048Z",
     "iopub.status.busy": "2023-03-10T13:25:34.984651Z",
     "iopub.status.idle": "2023-03-10T13:25:34.991466Z",
     "shell.execute_reply": "2023-03-10T13:25:34.990537Z"
    },
    "papermill": {
     "duration": 0.021786,
     "end_time": "2023-03-10T13:25:34.993513",
     "exception": false,
     "start_time": "2023-03-10T13:25:34.971727",
     "status": "completed"
    },
    "tags": []
   },
   "outputs": [
    {
     "data": {
      "text/plain": [
       "array([6, 2, 3])"
      ]
     },
     "execution_count": 23,
     "metadata": {},
     "output_type": "execute_result"
    }
   ],
   "source": [
    "d = a.copy()\n",
    "d"
   ]
  },
  {
   "cell_type": "code",
   "execution_count": 24,
   "id": "d725b99f",
   "metadata": {
    "execution": {
     "iopub.execute_input": "2023-03-10T13:25:35.018674Z",
     "iopub.status.busy": "2023-03-10T13:25:35.017445Z",
     "iopub.status.idle": "2023-03-10T13:25:35.024284Z",
     "shell.execute_reply": "2023-03-10T13:25:35.023426Z"
    },
    "papermill": {
     "duration": 0.022011,
     "end_time": "2023-03-10T13:25:35.026657",
     "exception": false,
     "start_time": "2023-03-10T13:25:35.004646",
     "status": "completed"
    },
    "tags": []
   },
   "outputs": [
    {
     "data": {
      "text/plain": [
       "array([6, 2, 3])"
      ]
     },
     "execution_count": 24,
     "metadata": {},
     "output_type": "execute_result"
    }
   ],
   "source": [
    "a[0]=6\n",
    "d"
   ]
  },
  {
   "cell_type": "code",
   "execution_count": 25,
   "id": "e7b9245f",
   "metadata": {
    "execution": {
     "iopub.execute_input": "2023-03-10T13:25:35.051689Z",
     "iopub.status.busy": "2023-03-10T13:25:35.051271Z",
     "iopub.status.idle": "2023-03-10T13:25:35.058171Z",
     "shell.execute_reply": "2023-03-10T13:25:35.057296Z"
    },
    "papermill": {
     "duration": 0.021846,
     "end_time": "2023-03-10T13:25:35.060387",
     "exception": false,
     "start_time": "2023-03-10T13:25:35.038541",
     "status": "completed"
    },
    "tags": []
   },
   "outputs": [
    {
     "data": {
      "text/plain": [
       "array([1, 2, 3, 4, 5, 6, 7])"
      ]
     },
     "execution_count": 25,
     "metadata": {},
     "output_type": "execute_result"
    }
   ],
   "source": [
    "a = np.array([1,2,3,4,5,6,7])\n",
    "a"
   ]
  },
  {
   "cell_type": "code",
   "execution_count": 26,
   "id": "7d559969",
   "metadata": {
    "execution": {
     "iopub.execute_input": "2023-03-10T13:25:35.086306Z",
     "iopub.status.busy": "2023-03-10T13:25:35.085493Z",
     "iopub.status.idle": "2023-03-10T13:25:35.092022Z",
     "shell.execute_reply": "2023-03-10T13:25:35.090703Z"
    },
    "papermill": {
     "duration": 0.022185,
     "end_time": "2023-03-10T13:25:35.094402",
     "exception": false,
     "start_time": "2023-03-10T13:25:35.072217",
     "status": "completed"
    },
    "tags": []
   },
   "outputs": [
    {
     "name": "stdout",
     "output_type": "stream",
     "text": [
      "1\n"
     ]
    }
   ],
   "source": [
    "print(a[0])"
   ]
  },
  {
   "cell_type": "code",
   "execution_count": 27,
   "id": "19e1db61",
   "metadata": {
    "execution": {
     "iopub.execute_input": "2023-03-10T13:25:35.120421Z",
     "iopub.status.busy": "2023-03-10T13:25:35.119726Z",
     "iopub.status.idle": "2023-03-10T13:25:35.126440Z",
     "shell.execute_reply": "2023-03-10T13:25:35.124647Z"
    },
    "papermill": {
     "duration": 0.02219,
     "end_time": "2023-03-10T13:25:35.128903",
     "exception": false,
     "start_time": "2023-03-10T13:25:35.106713",
     "status": "completed"
    },
    "tags": []
   },
   "outputs": [
    {
     "name": "stdout",
     "output_type": "stream",
     "text": [
      "[1 2 3 4]\n"
     ]
    }
   ],
   "source": [
    "print(a[0:4])"
   ]
  },
  {
   "cell_type": "code",
   "execution_count": 28,
   "id": "b502d610",
   "metadata": {
    "execution": {
     "iopub.execute_input": "2023-03-10T13:25:35.154172Z",
     "iopub.status.busy": "2023-03-10T13:25:35.153678Z",
     "iopub.status.idle": "2023-03-10T13:25:35.161680Z",
     "shell.execute_reply": "2023-03-10T13:25:35.160510Z"
    },
    "papermill": {
     "duration": 0.023136,
     "end_time": "2023-03-10T13:25:35.163827",
     "exception": false,
     "start_time": "2023-03-10T13:25:35.140691",
     "status": "completed"
    },
    "tags": []
   },
   "outputs": [
    {
     "data": {
      "text/plain": [
       "array([7, 6, 5, 4, 3, 2, 1])"
      ]
     },
     "execution_count": 28,
     "metadata": {},
     "output_type": "execute_result"
    }
   ],
   "source": [
    "a[::-1]"
   ]
  },
  {
   "cell_type": "code",
   "execution_count": 29,
   "id": "5648746b",
   "metadata": {
    "execution": {
     "iopub.execute_input": "2023-03-10T13:25:35.188678Z",
     "iopub.status.busy": "2023-03-10T13:25:35.188230Z",
     "iopub.status.idle": "2023-03-10T13:25:35.196696Z",
     "shell.execute_reply": "2023-03-10T13:25:35.195518Z"
    },
    "papermill": {
     "duration": 0.023748,
     "end_time": "2023-03-10T13:25:35.199119",
     "exception": false,
     "start_time": "2023-03-10T13:25:35.175371",
     "status": "completed"
    },
    "tags": []
   },
   "outputs": [
    {
     "data": {
      "text/plain": [
       "array([[ 1,  2,  3,  4,  5],\n",
       "       [ 6,  7,  8,  9, 10]])"
      ]
     },
     "execution_count": 29,
     "metadata": {},
     "output_type": "execute_result"
    }
   ],
   "source": [
    "b=np.array([[1,2,3,4,5],[6,7,8,9,10]])\n",
    "b"
   ]
  },
  {
   "cell_type": "code",
   "execution_count": 30,
   "id": "10f30c22",
   "metadata": {
    "execution": {
     "iopub.execute_input": "2023-03-10T13:25:35.224316Z",
     "iopub.status.busy": "2023-03-10T13:25:35.223925Z",
     "iopub.status.idle": "2023-03-10T13:25:35.229123Z",
     "shell.execute_reply": "2023-03-10T13:25:35.228189Z"
    },
    "papermill": {
     "duration": 0.021261,
     "end_time": "2023-03-10T13:25:35.232074",
     "exception": false,
     "start_time": "2023-03-10T13:25:35.210813",
     "status": "completed"
    },
    "tags": []
   },
   "outputs": [
    {
     "name": "stdout",
     "output_type": "stream",
     "text": [
      "7\n"
     ]
    }
   ],
   "source": [
    "print(b[1,1])"
   ]
  },
  {
   "cell_type": "code",
   "execution_count": 31,
   "id": "99a3ede5",
   "metadata": {
    "execution": {
     "iopub.execute_input": "2023-03-10T13:25:35.259516Z",
     "iopub.status.busy": "2023-03-10T13:25:35.259113Z",
     "iopub.status.idle": "2023-03-10T13:25:35.265328Z",
     "shell.execute_reply": "2023-03-10T13:25:35.264061Z"
    },
    "papermill": {
     "duration": 0.022643,
     "end_time": "2023-03-10T13:25:35.268150",
     "exception": false,
     "start_time": "2023-03-10T13:25:35.245507",
     "status": "completed"
    },
    "tags": []
   },
   "outputs": [
    {
     "name": "stdout",
     "output_type": "stream",
     "text": [
      "[2 7]\n"
     ]
    }
   ],
   "source": [
    "print(b[:,1])"
   ]
  },
  {
   "cell_type": "code",
   "execution_count": 32,
   "id": "d98e2712",
   "metadata": {
    "execution": {
     "iopub.execute_input": "2023-03-10T13:25:35.295053Z",
     "iopub.status.busy": "2023-03-10T13:25:35.294409Z",
     "iopub.status.idle": "2023-03-10T13:25:35.299847Z",
     "shell.execute_reply": "2023-03-10T13:25:35.298498Z"
    },
    "papermill": {
     "duration": 0.021975,
     "end_time": "2023-03-10T13:25:35.302979",
     "exception": false,
     "start_time": "2023-03-10T13:25:35.281004",
     "status": "completed"
    },
    "tags": []
   },
   "outputs": [
    {
     "name": "stdout",
     "output_type": "stream",
     "text": [
      "[ 6  7  8  9 10]\n"
     ]
    }
   ],
   "source": [
    "print(b[1,:])"
   ]
  },
  {
   "cell_type": "code",
   "execution_count": 33,
   "id": "44b0547e",
   "metadata": {
    "execution": {
     "iopub.execute_input": "2023-03-10T13:25:35.329624Z",
     "iopub.status.busy": "2023-03-10T13:25:35.328528Z",
     "iopub.status.idle": "2023-03-10T13:25:35.334698Z",
     "shell.execute_reply": "2023-03-10T13:25:35.333380Z"
    },
    "papermill": {
     "duration": 0.023353,
     "end_time": "2023-03-10T13:25:35.338507",
     "exception": false,
     "start_time": "2023-03-10T13:25:35.315154",
     "status": "completed"
    },
    "tags": []
   },
   "outputs": [
    {
     "name": "stdout",
     "output_type": "stream",
     "text": [
      "[7 8 9]\n"
     ]
    }
   ],
   "source": [
    "print(b[1,1:4])"
   ]
  },
  {
   "cell_type": "code",
   "execution_count": 34,
   "id": "374c2c7f",
   "metadata": {
    "execution": {
     "iopub.execute_input": "2023-03-10T13:25:35.365891Z",
     "iopub.status.busy": "2023-03-10T13:25:35.365441Z",
     "iopub.status.idle": "2023-03-10T13:25:35.372040Z",
     "shell.execute_reply": "2023-03-10T13:25:35.371190Z"
    },
    "papermill": {
     "duration": 0.022455,
     "end_time": "2023-03-10T13:25:35.374236",
     "exception": false,
     "start_time": "2023-03-10T13:25:35.351781",
     "status": "completed"
    },
    "tags": []
   },
   "outputs": [
    {
     "data": {
      "text/plain": [
       "array([ 6,  7,  8,  9, 10])"
      ]
     },
     "execution_count": 34,
     "metadata": {},
     "output_type": "execute_result"
    }
   ],
   "source": [
    "b[-1,:]"
   ]
  },
  {
   "cell_type": "code",
   "execution_count": 35,
   "id": "12b138ef",
   "metadata": {
    "execution": {
     "iopub.execute_input": "2023-03-10T13:25:35.401084Z",
     "iopub.status.busy": "2023-03-10T13:25:35.400428Z",
     "iopub.status.idle": "2023-03-10T13:25:35.407102Z",
     "shell.execute_reply": "2023-03-10T13:25:35.405863Z"
    },
    "papermill": {
     "duration": 0.022951,
     "end_time": "2023-03-10T13:25:35.409510",
     "exception": false,
     "start_time": "2023-03-10T13:25:35.386559",
     "status": "completed"
    },
    "tags": []
   },
   "outputs": [
    {
     "data": {
      "text/plain": [
       "array([ 5, 10])"
      ]
     },
     "execution_count": 35,
     "metadata": {},
     "output_type": "execute_result"
    }
   ],
   "source": [
    "b[:,-1]"
   ]
  },
  {
   "cell_type": "code",
   "execution_count": 36,
   "id": "abb6bb2a",
   "metadata": {
    "execution": {
     "iopub.execute_input": "2023-03-10T13:25:35.435641Z",
     "iopub.status.busy": "2023-03-10T13:25:35.434837Z",
     "iopub.status.idle": "2023-03-10T13:25:35.442660Z",
     "shell.execute_reply": "2023-03-10T13:25:35.441459Z"
    },
    "papermill": {
     "duration": 0.023506,
     "end_time": "2023-03-10T13:25:35.445032",
     "exception": false,
     "start_time": "2023-03-10T13:25:35.421526",
     "status": "completed"
    },
    "tags": []
   },
   "outputs": [
    {
     "data": {
      "text/plain": [
       "array([[1, 2, 3],\n",
       "       [4, 5, 6],\n",
       "       [7, 8, 9]])"
      ]
     },
     "execution_count": 36,
     "metadata": {},
     "output_type": "execute_result"
    }
   ],
   "source": [
    "a = np.array([[1,2,3],[4,5,6],[7,8,9]])\n",
    "a"
   ]
  },
  {
   "cell_type": "code",
   "execution_count": 37,
   "id": "1310b39f",
   "metadata": {
    "execution": {
     "iopub.execute_input": "2023-03-10T13:25:35.471930Z",
     "iopub.status.busy": "2023-03-10T13:25:35.471511Z",
     "iopub.status.idle": "2023-03-10T13:25:35.478706Z",
     "shell.execute_reply": "2023-03-10T13:25:35.477511Z"
    },
    "papermill": {
     "duration": 0.023572,
     "end_time": "2023-03-10T13:25:35.481064",
     "exception": false,
     "start_time": "2023-03-10T13:25:35.457492",
     "status": "completed"
    },
    "tags": []
   },
   "outputs": [
    {
     "data": {
      "text/plain": [
       "array([1, 2, 3, 4, 5, 6, 7, 8, 9])"
      ]
     },
     "execution_count": 37,
     "metadata": {},
     "output_type": "execute_result"
    }
   ],
   "source": [
    "b = a.ravel()\n",
    "b"
   ]
  },
  {
   "cell_type": "markdown",
   "id": "56c639b1",
   "metadata": {
    "papermill": {
     "duration": 0.012267,
     "end_time": "2023-03-10T13:25:35.506197",
     "exception": false,
     "start_time": "2023-03-10T13:25:35.493930",
     "status": "completed"
    },
    "tags": []
   },
   "source": []
  },
  {
   "cell_type": "code",
   "execution_count": 38,
   "id": "e3c8c645",
   "metadata": {
    "execution": {
     "iopub.execute_input": "2023-03-10T13:25:35.533822Z",
     "iopub.status.busy": "2023-03-10T13:25:35.533284Z",
     "iopub.status.idle": "2023-03-10T13:25:35.541393Z",
     "shell.execute_reply": "2023-03-10T13:25:35.539961Z"
    },
    "papermill": {
     "duration": 0.024874,
     "end_time": "2023-03-10T13:25:35.543931",
     "exception": false,
     "start_time": "2023-03-10T13:25:35.519057",
     "status": "completed"
    },
    "tags": []
   },
   "outputs": [
    {
     "data": {
      "text/plain": [
       "array([[1, 2, 3],\n",
       "       [4, 5, 6],\n",
       "       [7, 8, 9]])"
      ]
     },
     "execution_count": 38,
     "metadata": {},
     "output_type": "execute_result"
    }
   ],
   "source": [
    "b.reshape(3,3)"
   ]
  },
  {
   "cell_type": "code",
   "execution_count": 39,
   "id": "d5bdf008",
   "metadata": {
    "execution": {
     "iopub.execute_input": "2023-03-10T13:25:35.571858Z",
     "iopub.status.busy": "2023-03-10T13:25:35.570737Z",
     "iopub.status.idle": "2023-03-10T13:25:35.577981Z",
     "shell.execute_reply": "2023-03-10T13:25:35.577079Z"
    },
    "papermill": {
     "duration": 0.023555,
     "end_time": "2023-03-10T13:25:35.580249",
     "exception": false,
     "start_time": "2023-03-10T13:25:35.556694",
     "status": "completed"
    },
    "tags": []
   },
   "outputs": [
    {
     "data": {
      "text/plain": [
       "array([[1, 2, 3],\n",
       "       [4, 5, 6],\n",
       "       [7, 8, 9]])"
      ]
     },
     "execution_count": 39,
     "metadata": {},
     "output_type": "execute_result"
    }
   ],
   "source": [
    "b.resize(3,3)\n",
    "b"
   ]
  }
 ],
 "metadata": {
  "kernelspec": {
   "display_name": "Python 3",
   "language": "python",
   "name": "python3"
  },
  "language_info": {
   "codemirror_mode": {
    "name": "ipython",
    "version": 3
   },
   "file_extension": ".py",
   "mimetype": "text/x-python",
   "name": "python",
   "nbconvert_exporter": "python",
   "pygments_lexer": "ipython3",
   "version": "3.7.12"
  },
  "papermill": {
   "default_parameters": {},
   "duration": 12.166543,
   "end_time": "2023-03-10T13:25:36.215195",
   "environment_variables": {},
   "exception": null,
   "input_path": "__notebook__.ipynb",
   "output_path": "__notebook__.ipynb",
   "parameters": {},
   "start_time": "2023-03-10T13:25:24.048652",
   "version": "2.4.0"
  }
 },
 "nbformat": 4,
 "nbformat_minor": 5
}
