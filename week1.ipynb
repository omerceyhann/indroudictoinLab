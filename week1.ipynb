{
 "cells": [
  {
   "cell_type": "code",
   "execution_count": 1,
   "id": "8b719c61",
   "metadata": {
    "_cell_guid": "b1076dfc-b9ad-4769-8c92-a6c4dae69d19",
    "_uuid": "8f2839f25d086af736a60e9eeb907d3b93b6e0e5",
    "execution": {
     "iopub.execute_input": "2023-03-03T17:04:01.865385Z",
     "iopub.status.busy": "2023-03-03T17:04:01.864733Z",
     "iopub.status.idle": "2023-03-03T17:04:01.879753Z",
     "shell.execute_reply": "2023-03-03T17:04:01.878807Z"
    },
    "papermill": {
     "duration": 0.027754,
     "end_time": "2023-03-03T17:04:01.882391",
     "exception": false,
     "start_time": "2023-03-03T17:04:01.854637",
     "status": "completed"
    },
    "tags": []
   },
   "outputs": [],
   "source": [
    "# This Python 3 environment comes with many helpful analytics libraries installed\n",
    "# It is defined by the kaggle/python Docker image: https://github.com/kaggle/docker-python\n",
    "# For example, here's several helpful packages to load\n",
    "\n",
    "import numpy as np # linear algebra\n",
    "import pandas as pd # data processing, CSV file I/O (e.g. pd.read_csv)\n",
    "\n",
    "# Input data files are available in the read-only \"../input/\" directory\n",
    "# For example, running this (by clicking run or pressing Shift+Enter) will list all files under the input directory\n",
    "\n",
    "import os\n",
    "for dirname, _, filenames in os.walk('/kaggle/input'):\n",
    "    for filename in filenames:\n",
    "        print(os.path.join(dirname, filename))\n",
    "\n",
    "# You can write up to 20GB to the current directory (/kaggle/working/) that gets preserved as output when you create a version using \"Save & Run All\" \n",
    "# You can also write temporary files to /kaggle/temp/, but they won't be saved outside of the current session"
   ]
  },
  {
   "cell_type": "code",
   "execution_count": 2,
   "id": "168c0cb4",
   "metadata": {
    "execution": {
     "iopub.execute_input": "2023-03-03T17:04:01.897786Z",
     "iopub.status.busy": "2023-03-03T17:04:01.896911Z",
     "iopub.status.idle": "2023-03-03T17:04:01.903877Z",
     "shell.execute_reply": "2023-03-03T17:04:01.902583Z"
    },
    "papermill": {
     "duration": 0.018459,
     "end_time": "2023-03-03T17:04:01.907478",
     "exception": false,
     "start_time": "2023-03-03T17:04:01.889019",
     "status": "completed"
    },
    "tags": []
   },
   "outputs": [
    {
     "name": "stdout",
     "output_type": "stream",
     "text": [
      "Deneme Yazisi\n",
      "salı\n"
     ]
    }
   ],
   "source": [
    "var1= \"Deneme Yazisi\"\n",
    "var2= 15\n",
    "var3= 22.0\n",
    "gun = \"salı\"\n",
    "\n",
    "print(var1)\n",
    "print(gun)"
   ]
  },
  {
   "cell_type": "code",
   "execution_count": 3,
   "id": "79041b1d",
   "metadata": {
    "execution": {
     "iopub.execute_input": "2023-03-03T17:04:01.923166Z",
     "iopub.status.busy": "2023-03-03T17:04:01.922743Z",
     "iopub.status.idle": "2023-03-03T17:04:01.931708Z",
     "shell.execute_reply": "2023-03-03T17:04:01.930306Z"
    },
    "papermill": {
     "duration": 0.01933,
     "end_time": "2023-03-03T17:04:01.934237",
     "exception": false,
     "start_time": "2023-03-03T17:04:01.914907",
     "status": "completed"
    },
    "tags": []
   },
   "outputs": [
    {
     "data": {
      "text/plain": [
       "list"
      ]
     },
     "execution_count": 3,
     "metadata": {},
     "output_type": "execute_result"
    }
   ],
   "source": [
    "list_integer =  [1,2,3,4]\n",
    "type(list_integer)"
   ]
  },
  {
   "cell_type": "code",
   "execution_count": 4,
   "id": "6bd2c1bd",
   "metadata": {
    "execution": {
     "iopub.execute_input": "2023-03-03T17:04:01.949490Z",
     "iopub.status.busy": "2023-03-03T17:04:01.948658Z",
     "iopub.status.idle": "2023-03-03T17:04:01.955052Z",
     "shell.execute_reply": "2023-03-03T17:04:01.953615Z"
    },
    "papermill": {
     "duration": 0.017542,
     "end_time": "2023-03-03T17:04:01.958239",
     "exception": false,
     "start_time": "2023-03-03T17:04:01.940697",
     "status": "completed"
    },
    "tags": []
   },
   "outputs": [
    {
     "name": "stdout",
     "output_type": "stream",
     "text": [
      "3\n"
     ]
    }
   ],
   "source": [
    "deger = list_integer[2]\n",
    "print(deger)"
   ]
  },
  {
   "cell_type": "code",
   "execution_count": 5,
   "id": "16234fe8",
   "metadata": {
    "execution": {
     "iopub.execute_input": "2023-03-03T17:04:01.973499Z",
     "iopub.status.busy": "2023-03-03T17:04:01.973048Z",
     "iopub.status.idle": "2023-03-03T17:04:01.979371Z",
     "shell.execute_reply": "2023-03-03T17:04:01.977852Z"
    },
    "papermill": {
     "duration": 0.017483,
     "end_time": "2023-03-03T17:04:01.982302",
     "exception": false,
     "start_time": "2023-03-03T17:04:01.964819",
     "status": "completed"
    },
    "tags": []
   },
   "outputs": [
    {
     "name": "stdout",
     "output_type": "stream",
     "text": [
      "4\n"
     ]
    }
   ],
   "source": [
    "sonEleman = list_integer[-1] \n",
    "print(sonEleman)\n"
   ]
  },
  {
   "cell_type": "code",
   "execution_count": 6,
   "id": "f09784ad",
   "metadata": {
    "execution": {
     "iopub.execute_input": "2023-03-03T17:04:01.997555Z",
     "iopub.status.busy": "2023-03-03T17:04:01.997108Z",
     "iopub.status.idle": "2023-03-03T17:04:02.006960Z",
     "shell.execute_reply": "2023-03-03T17:04:02.005299Z"
    },
    "papermill": {
     "duration": 0.021485,
     "end_time": "2023-03-03T17:04:02.010447",
     "exception": false,
     "start_time": "2023-03-03T17:04:01.988962",
     "status": "completed"
    },
    "tags": []
   },
   "outputs": [
    {
     "data": {
      "text/plain": [
       "[1, 2, 3]"
      ]
     },
     "execution_count": 6,
     "metadata": {},
     "output_type": "execute_result"
    }
   ],
   "source": [
    "list_integer[0:3]"
   ]
  },
  {
   "cell_type": "code",
   "execution_count": 7,
   "id": "f12a17e7",
   "metadata": {
    "execution": {
     "iopub.execute_input": "2023-03-03T17:04:02.026374Z",
     "iopub.status.busy": "2023-03-03T17:04:02.025799Z",
     "iopub.status.idle": "2023-03-03T17:04:02.035210Z",
     "shell.execute_reply": "2023-03-03T17:04:02.033615Z"
    },
    "papermill": {
     "duration": 0.020655,
     "end_time": "2023-03-03T17:04:02.038021",
     "exception": false,
     "start_time": "2023-03-03T17:04:02.017366",
     "status": "completed"
    },
    "tags": []
   },
   "outputs": [
    {
     "data": {
      "text/plain": [
       "['__add__',\n",
       " '__class__',\n",
       " '__contains__',\n",
       " '__delattr__',\n",
       " '__delitem__',\n",
       " '__dir__',\n",
       " '__doc__',\n",
       " '__eq__',\n",
       " '__format__',\n",
       " '__ge__',\n",
       " '__getattribute__',\n",
       " '__getitem__',\n",
       " '__gt__',\n",
       " '__hash__',\n",
       " '__iadd__',\n",
       " '__imul__',\n",
       " '__init__',\n",
       " '__init_subclass__',\n",
       " '__iter__',\n",
       " '__le__',\n",
       " '__len__',\n",
       " '__lt__',\n",
       " '__mul__',\n",
       " '__ne__',\n",
       " '__new__',\n",
       " '__reduce__',\n",
       " '__reduce_ex__',\n",
       " '__repr__',\n",
       " '__reversed__',\n",
       " '__rmul__',\n",
       " '__setattr__',\n",
       " '__setitem__',\n",
       " '__sizeof__',\n",
       " '__str__',\n",
       " '__subclasshook__',\n",
       " 'append',\n",
       " 'clear',\n",
       " 'copy',\n",
       " 'count',\n",
       " 'extend',\n",
       " 'index',\n",
       " 'insert',\n",
       " 'pop',\n",
       " 'remove',\n",
       " 'reverse',\n",
       " 'sort']"
      ]
     },
     "execution_count": 7,
     "metadata": {},
     "output_type": "execute_result"
    }
   ],
   "source": [
    "dir(list_integer)"
   ]
  },
  {
   "cell_type": "code",
   "execution_count": 8,
   "id": "eb01ee65",
   "metadata": {
    "execution": {
     "iopub.execute_input": "2023-03-03T17:04:02.054702Z",
     "iopub.status.busy": "2023-03-03T17:04:02.054137Z",
     "iopub.status.idle": "2023-03-03T17:04:02.060744Z",
     "shell.execute_reply": "2023-03-03T17:04:02.059184Z"
    },
    "papermill": {
     "duration": 0.019615,
     "end_time": "2023-03-03T17:04:02.065028",
     "exception": false,
     "start_time": "2023-03-03T17:04:02.045413",
     "status": "completed"
    },
    "tags": []
   },
   "outputs": [
    {
     "name": "stdout",
     "output_type": "stream",
     "text": [
      "[1, 2, 3, 4, 9]\n"
     ]
    }
   ],
   "source": [
    "list_integer.append(9)\n",
    "print(list_integer)"
   ]
  },
  {
   "cell_type": "code",
   "execution_count": 9,
   "id": "4128ed92",
   "metadata": {
    "execution": {
     "iopub.execute_input": "2023-03-03T17:04:02.081789Z",
     "iopub.status.busy": "2023-03-03T17:04:02.081358Z",
     "iopub.status.idle": "2023-03-03T17:04:02.088212Z",
     "shell.execute_reply": "2023-03-03T17:04:02.086726Z"
    },
    "papermill": {
     "duration": 0.01937,
     "end_time": "2023-03-03T17:04:02.091421",
     "exception": false,
     "start_time": "2023-03-03T17:04:02.072051",
     "status": "completed"
    },
    "tags": []
   },
   "outputs": [
    {
     "name": "stdout",
     "output_type": "stream",
     "text": [
      "[1, 2, 3, 9]\n"
     ]
    }
   ],
   "source": [
    "list_integer.remove(4)\n",
    "print(list_integer)"
   ]
  },
  {
   "cell_type": "code",
   "execution_count": 10,
   "id": "3c3affd6",
   "metadata": {
    "execution": {
     "iopub.execute_input": "2023-03-03T17:04:02.110724Z",
     "iopub.status.busy": "2023-03-03T17:04:02.110264Z",
     "iopub.status.idle": "2023-03-03T17:04:02.115632Z",
     "shell.execute_reply": "2023-03-03T17:04:02.114668Z"
    },
    "papermill": {
     "duration": 0.018146,
     "end_time": "2023-03-03T17:04:02.118102",
     "exception": false,
     "start_time": "2023-03-03T17:04:02.099956",
     "status": "completed"
    },
    "tags": []
   },
   "outputs": [
    {
     "name": "stdout",
     "output_type": "stream",
     "text": [
      "[9, 3, 2, 1]\n"
     ]
    }
   ],
   "source": [
    "list_integer.reverse()\n",
    "print(list_integer)"
   ]
  },
  {
   "cell_type": "code",
   "execution_count": 11,
   "id": "f638e91e",
   "metadata": {
    "execution": {
     "iopub.execute_input": "2023-03-03T17:04:02.134559Z",
     "iopub.status.busy": "2023-03-03T17:04:02.134085Z",
     "iopub.status.idle": "2023-03-03T17:04:02.140395Z",
     "shell.execute_reply": "2023-03-03T17:04:02.138906Z"
    },
    "papermill": {
     "duration": 0.017574,
     "end_time": "2023-03-03T17:04:02.143108",
     "exception": false,
     "start_time": "2023-03-03T17:04:02.125534",
     "status": "completed"
    },
    "tags": []
   },
   "outputs": [
    {
     "name": "stdout",
     "output_type": "stream",
     "text": [
      "[1, 2, 3, 9]\n"
     ]
    }
   ],
   "source": [
    "list_integer.sort()\n",
    "print(list_integer)"
   ]
  },
  {
   "cell_type": "markdown",
   "id": "35e93e1f",
   "metadata": {
    "papermill": {
     "duration": 0.007817,
     "end_time": "2023-03-03T17:04:02.157962",
     "exception": false,
     "start_time": "2023-03-03T17:04:02.150145",
     "status": "completed"
    },
    "tags": []
   },
   "source": [
    "döngüler"
   ]
  },
  {
   "cell_type": "code",
   "execution_count": 12,
   "id": "67e1c472",
   "metadata": {
    "execution": {
     "iopub.execute_input": "2023-03-03T17:04:02.174052Z",
     "iopub.status.busy": "2023-03-03T17:04:02.173626Z",
     "iopub.status.idle": "2023-03-03T17:04:02.180210Z",
     "shell.execute_reply": "2023-03-03T17:04:02.178691Z"
    },
    "papermill": {
     "duration": 0.018796,
     "end_time": "2023-03-03T17:04:02.183729",
     "exception": false,
     "start_time": "2023-03-03T17:04:02.164933",
     "status": "completed"
    },
    "tags": []
   },
   "outputs": [
    {
     "name": "stdout",
     "output_type": "stream",
     "text": [
      "4\n",
      "5\n",
      "6\n",
      "7\n",
      "8\n",
      "9\n"
     ]
    }
   ],
   "source": [
    "for each in range(4,10):\n",
    "        print(each)"
   ]
  },
  {
   "cell_type": "code",
   "execution_count": 13,
   "id": "224d5423",
   "metadata": {
    "execution": {
     "iopub.execute_input": "2023-03-03T17:04:02.200076Z",
     "iopub.status.busy": "2023-03-03T17:04:02.199645Z",
     "iopub.status.idle": "2023-03-03T17:04:02.207254Z",
     "shell.execute_reply": "2023-03-03T17:04:02.206043Z"
    },
    "papermill": {
     "duration": 0.018655,
     "end_time": "2023-03-03T17:04:02.209728",
     "exception": false,
     "start_time": "2023-03-03T17:04:02.191073",
     "status": "completed"
    },
    "tags": []
   },
   "outputs": [
    {
     "data": {
      "text/plain": [
       "15"
      ]
     },
     "execution_count": 13,
     "metadata": {},
     "output_type": "execute_result"
    }
   ],
   "source": [
    "sum(list_integer)"
   ]
  },
  {
   "cell_type": "code",
   "execution_count": 14,
   "id": "de82e868",
   "metadata": {
    "execution": {
     "iopub.execute_input": "2023-03-03T17:04:02.227060Z",
     "iopub.status.busy": "2023-03-03T17:04:02.226298Z",
     "iopub.status.idle": "2023-03-03T17:04:02.233636Z",
     "shell.execute_reply": "2023-03-03T17:04:02.232277Z"
    },
    "papermill": {
     "duration": 0.018879,
     "end_time": "2023-03-03T17:04:02.236053",
     "exception": false,
     "start_time": "2023-03-03T17:04:02.217174",
     "status": "completed"
    },
    "tags": []
   },
   "outputs": [
    {
     "data": {
      "text/plain": [
       "1"
      ]
     },
     "execution_count": 14,
     "metadata": {},
     "output_type": "execute_result"
    }
   ],
   "source": [
    "min(list_integer)"
   ]
  },
  {
   "cell_type": "code",
   "execution_count": 15,
   "id": "3f8a6c82",
   "metadata": {
    "execution": {
     "iopub.execute_input": "2023-03-03T17:04:02.253022Z",
     "iopub.status.busy": "2023-03-03T17:04:02.252583Z",
     "iopub.status.idle": "2023-03-03T17:04:02.259181Z",
     "shell.execute_reply": "2023-03-03T17:04:02.257827Z"
    },
    "papermill": {
     "duration": 0.018812,
     "end_time": "2023-03-03T17:04:02.262251",
     "exception": false,
     "start_time": "2023-03-03T17:04:02.243439",
     "status": "completed"
    },
    "tags": []
   },
   "outputs": [
    {
     "name": "stdout",
     "output_type": "stream",
     "text": [
      "1\n"
     ]
    }
   ],
   "source": [
    "minumum= 5000\n",
    "\n",
    "for each in list_integer:\n",
    "    if(each<minumum):\n",
    "        minumum=each\n",
    "    else:\n",
    "        continue\n",
    "    \n",
    "print(minumum)\n",
    "       "
   ]
  },
  {
   "cell_type": "code",
   "execution_count": 16,
   "id": "69e28040",
   "metadata": {
    "execution": {
     "iopub.execute_input": "2023-03-03T17:04:02.280174Z",
     "iopub.status.busy": "2023-03-03T17:04:02.279674Z",
     "iopub.status.idle": "2023-03-03T17:04:02.287116Z",
     "shell.execute_reply": "2023-03-03T17:04:02.285322Z"
    },
    "papermill": {
     "duration": 0.02003,
     "end_time": "2023-03-03T17:04:02.290242",
     "exception": false,
     "start_time": "2023-03-03T17:04:02.270212",
     "status": "completed"
    },
    "tags": []
   },
   "outputs": [
    {
     "name": "stdout",
     "output_type": "stream",
     "text": [
      "0\n",
      "1\n",
      "2\n",
      "3\n",
      "4\n",
      "5\n"
     ]
    }
   ],
   "source": [
    "i=0\n",
    "\n",
    "while(i<6):\n",
    "    print(i)\n",
    "    i=i+1"
   ]
  },
  {
   "cell_type": "code",
   "execution_count": 17,
   "id": "1c7c5495",
   "metadata": {
    "execution": {
     "iopub.execute_input": "2023-03-03T17:04:02.308039Z",
     "iopub.status.busy": "2023-03-03T17:04:02.306938Z",
     "iopub.status.idle": "2023-03-03T17:04:02.316544Z",
     "shell.execute_reply": "2023-03-03T17:04:02.315231Z"
    },
    "papermill": {
     "duration": 0.021555,
     "end_time": "2023-03-03T17:04:02.319296",
     "exception": false,
     "start_time": "2023-03-03T17:04:02.297741",
     "status": "completed"
    },
    "tags": []
   },
   "outputs": [
    {
     "data": {
      "text/plain": [
       "18.84"
      ]
     },
     "execution_count": 17,
     "metadata": {},
     "output_type": "execute_result"
    }
   ],
   "source": [
    "def cember_Cevre(r,pi=3.14):\n",
    "    output=2*pi*r\n",
    "    return output\n",
    "\n",
    "cember_Cevre(3)"
   ]
  },
  {
   "cell_type": "code",
   "execution_count": 18,
   "id": "08234309",
   "metadata": {
    "execution": {
     "iopub.execute_input": "2023-03-03T17:04:02.338136Z",
     "iopub.status.busy": "2023-03-03T17:04:02.337368Z",
     "iopub.status.idle": "2023-03-03T17:04:02.345357Z",
     "shell.execute_reply": "2023-03-03T17:04:02.343634Z"
    },
    "papermill": {
     "duration": 0.020189,
     "end_time": "2023-03-03T17:04:02.348296",
     "exception": false,
     "start_time": "2023-03-03T17:04:02.328107",
     "status": "completed"
    },
    "tags": []
   },
   "outputs": [
    {
     "name": "stdout",
     "output_type": "stream",
     "text": [
      "9\n"
     ]
    }
   ],
   "source": [
    "def hesapla(x):\n",
    "    output =x*x\n",
    "    return output\n",
    "sonuc = hesapla(3)\n",
    "\n",
    "sonuc2 = lambda x: x*x\n",
    "print(sonuc2(3))"
   ]
  },
  {
   "cell_type": "code",
   "execution_count": 19,
   "id": "04e3cd0f",
   "metadata": {
    "execution": {
     "iopub.execute_input": "2023-03-03T17:04:02.367376Z",
     "iopub.status.busy": "2023-03-03T17:04:02.366504Z",
     "iopub.status.idle": "2023-03-03T17:04:02.376152Z",
     "shell.execute_reply": "2023-03-03T17:04:02.374676Z"
    },
    "papermill": {
     "duration": 0.02246,
     "end_time": "2023-03-03T17:04:02.379160",
     "exception": false,
     "start_time": "2023-03-03T17:04:02.356700",
     "status": "completed"
    },
    "tags": []
   },
   "outputs": [
    {
     "data": {
      "text/plain": [
       "5"
      ]
     },
     "execution_count": 19,
     "metadata": {},
     "output_type": "execute_result"
    }
   ],
   "source": [
    "dictionary={\"omer\":23,\"ali\":5,\"büşra\":26}\n",
    "dictionary[\"ali\"]"
   ]
  },
  {
   "cell_type": "code",
   "execution_count": 20,
   "id": "6c297161",
   "metadata": {
    "execution": {
     "iopub.execute_input": "2023-03-03T17:04:02.398187Z",
     "iopub.status.busy": "2023-03-03T17:04:02.397745Z",
     "iopub.status.idle": "2023-03-03T17:04:02.405354Z",
     "shell.execute_reply": "2023-03-03T17:04:02.403888Z"
    },
    "papermill": {
     "duration": 0.020277,
     "end_time": "2023-03-03T17:04:02.407912",
     "exception": false,
     "start_time": "2023-03-03T17:04:02.387635",
     "status": "completed"
    },
    "tags": []
   },
   "outputs": [
    {
     "data": {
      "text/plain": [
       "dict_keys(['omer', 'ali', 'büşra'])"
      ]
     },
     "execution_count": 20,
     "metadata": {},
     "output_type": "execute_result"
    }
   ],
   "source": [
    "dictionary.keys()"
   ]
  },
  {
   "cell_type": "code",
   "execution_count": 21,
   "id": "45545d26",
   "metadata": {
    "execution": {
     "iopub.execute_input": "2023-03-03T17:04:02.425905Z",
     "iopub.status.busy": "2023-03-03T17:04:02.425389Z",
     "iopub.status.idle": "2023-03-03T17:04:02.433695Z",
     "shell.execute_reply": "2023-03-03T17:04:02.431914Z"
    },
    "papermill": {
     "duration": 0.020703,
     "end_time": "2023-03-03T17:04:02.436638",
     "exception": false,
     "start_time": "2023-03-03T17:04:02.415935",
     "status": "completed"
    },
    "tags": []
   },
   "outputs": [
    {
     "data": {
      "text/plain": [
       "dict_values([23, 5, 26])"
      ]
     },
     "execution_count": 21,
     "metadata": {},
     "output_type": "execute_result"
    }
   ],
   "source": [
    "dictionary.values()"
   ]
  },
  {
   "cell_type": "code",
   "execution_count": 22,
   "id": "29aeedfa",
   "metadata": {
    "execution": {
     "iopub.execute_input": "2023-03-03T17:04:02.455075Z",
     "iopub.status.busy": "2023-03-03T17:04:02.454472Z",
     "iopub.status.idle": "2023-03-03T17:04:02.463464Z",
     "shell.execute_reply": "2023-03-03T17:04:02.461885Z"
    },
    "papermill": {
     "duration": 0.021831,
     "end_time": "2023-03-03T17:04:02.466654",
     "exception": false,
     "start_time": "2023-03-03T17:04:02.444823",
     "status": "completed"
    },
    "tags": []
   },
   "outputs": [
    {
     "name": "stdout",
     "output_type": "stream",
     "text": [
      "{'omer': 23, 'ali': 5, 'büşra': 26}\n"
     ]
    }
   ],
   "source": [
    "def dictoranryA():\n",
    "    dictionary={\"omer\":23,\"ali\":5,\"büşra\":26}\n",
    "    return dictionary\n",
    "\n",
    "yazdr =dictoranryA()\n",
    "print(yazdr)"
   ]
  },
  {
   "cell_type": "code",
   "execution_count": 23,
   "id": "82ae0f87",
   "metadata": {
    "execution": {
     "iopub.execute_input": "2023-03-03T17:04:02.485951Z",
     "iopub.status.busy": "2023-03-03T17:04:02.485515Z",
     "iopub.status.idle": "2023-03-03T17:04:02.492364Z",
     "shell.execute_reply": "2023-03-03T17:04:02.490932Z"
    },
    "papermill": {
     "duration": 0.020257,
     "end_time": "2023-03-03T17:04:02.495732",
     "exception": false,
     "start_time": "2023-03-03T17:04:02.475475",
     "status": "completed"
    },
    "tags": []
   },
   "outputs": [
    {
     "name": "stdout",
     "output_type": "stream",
     "text": [
      "evet\n"
     ]
    }
   ],
   "source": [
    "keys= dictionary.keys()\n",
    "if \"omer\" in keys:\n",
    "    print(\"evet\")\n",
    "else:\n",
    "    print(\"hayır\")"
   ]
  }
 ],
 "metadata": {
  "kernelspec": {
   "display_name": "Python 3",
   "language": "python",
   "name": "python3"
  },
  "language_info": {
   "codemirror_mode": {
    "name": "ipython",
    "version": 3
   },
   "file_extension": ".py",
   "mimetype": "text/x-python",
   "name": "python",
   "nbconvert_exporter": "python",
   "pygments_lexer": "ipython3",
   "version": "3.7.12"
  },
  "papermill": {
   "default_parameters": {},
   "duration": 13.284529,
   "end_time": "2023-03-03T17:04:03.228056",
   "environment_variables": {},
   "exception": null,
   "input_path": "__notebook__.ipynb",
   "output_path": "__notebook__.ipynb",
   "parameters": {},
   "start_time": "2023-03-03T17:03:49.943527",
   "version": "2.4.0"
  }
 },
 "nbformat": 4,
 "nbformat_minor": 5
}
